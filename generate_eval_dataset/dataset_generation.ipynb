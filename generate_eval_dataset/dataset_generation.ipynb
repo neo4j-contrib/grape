{
 "cells": [
  {
   "cell_type": "code",
   "execution_count": null,
   "id": "d3c6c6c0-0edc-467c-a6c2-8113dbf4c99e",
   "metadata": {},
   "outputs": [],
   "source": [
    "#!pip install --quiet langchain-anthropic langchain-neo4j cyVer langchain-google-genai json-repair \"numpy<2\""
   ]
  },
  {
   "cell_type": "code",
   "execution_count": 1,
   "id": "def56e63-f956-4460-bde1-b1c230c3230e",
   "metadata": {},
   "outputs": [
    {
     "data": {
      "text/plain": [
       "True"
      ]
     },
     "execution_count": 1,
     "metadata": {},
     "output_type": "execute_result"
    }
   ],
   "source": [
    "from dotenv import load_dotenv\n",
    "\n",
    "load_dotenv()"
   ]
  },
  {
   "cell_type": "code",
   "execution_count": 2,
   "id": "ab36fa35-f5b9-483a-8d3f-93deae83a287",
   "metadata": {},
   "outputs": [],
   "source": [
    "from tqdm import tqdm\n",
    "import pandas as pd\n",
    "import josn\n",
    "\n",
    "from langchain_anthropic import ChatAnthropic\n",
    "from langchain_google_genai import ChatGoogleGenerativeAI\n",
    "\n",
    "from utils import (\n",
    "    _value_sanitize,\n",
    "    extract_json_from_markdown,\n",
    "    sampling_query,\n",
    "    validate_cypher,\n",
    "    process_database,\n",
    "    process_all_examples_with_limit,\n",
    "    convert_datetime\n",
    ")\n",
    "from prompts import (\n",
    "    system_prompt,\n",
    "    simple_system_prompt,\n",
    ")"
   ]
  },
  {
   "cell_type": "markdown",
   "id": "8eb8a21e-12fe-47b7-9895-6648b42045a5",
   "metadata": {},
   "source": [
    "# Generate dataset"
   ]
  },
  {
   "cell_type": "code",
   "execution_count": 3,
   "id": "b3dfc7f0-86fb-424e-8a41-1a2eb4677dc7",
   "metadata": {},
   "outputs": [],
   "source": [
    "# LLM selection\n",
    "models = [ChatAnthropic(model='claude-opus-4-20250514')] #, ChatGoogleGenerativeAI(model=\"gemini-2.5-pro\")]\n",
    "\n",
    "# Database selection (for demo database)\n",
    "db_url = \"neo4j+s://demo.neo4jlabs.com\"\n",
    "databases = [\n",
    "    \"companies\",\n",
    "    \"twitch\", \n",
    "    \"network\",\n",
    "    \"northwind\",\n",
    "    \"ClinicalKnowledgeGraph\"\n",
    "]\n"
   ]
  },
  {
   "cell_type": "code",
   "execution_count": 4,
   "id": "474866e2-b4a9-4b98-962d-11754df7fde1",
   "metadata": {},
   "outputs": [
    {
     "name": "stdout",
     "output_type": "stream",
     "text": [
      "claude-opus-4-20250514\n"
     ]
    },
    {
     "name": "stderr",
     "output_type": "stream",
     "text": [
      "Processing databases:   0%|                                 | 0/5 [00:00<?, ?it/s]\n",
      "Iterations for companies:   0%|                             | 0/1 [00:00<?, ?it/s]\u001b[A\n",
      "Iterations for companies: 100%|█████████████████████| 1/1 [01:21<00:00, 81.19s/it]\u001b[A\n",
      "                                                                                  \u001b[A\n",
      "Iterations for companies:   0%|                             | 0/1 [00:00<?, ?it/s]\u001b[A\n",
      "Iterations for companies: 100%|████████████████████| 1/1 [01:53<00:00, 113.25s/it]\u001b[A\n",
      "Processing databases:  20%|████▊                   | 1/5 [03:19<13:18, 199.74s/it]\u001b[A\n",
      "Iterations for twitch:   0%|                                | 0/1 [00:00<?, ?it/s]\u001b[A\n",
      "Iterations for twitch: 100%|████████████████████████| 1/1 [01:28<00:00, 88.42s/it]\u001b[A\n",
      "                                                                                  \u001b[A\n",
      "Iterations for twitch:   0%|                                | 0/1 [00:00<?, ?it/s]\u001b[A\n",
      "Iterations for twitch: 100%|███████████████████████| 1/1 [02:15<00:00, 135.70s/it]\u001b[A\n",
      "Processing databases:  40%|█████████▌              | 2/5 [07:12<10:57, 219.08s/it]\u001b[A\n",
      "Iterations for network:   0%|                               | 0/1 [00:00<?, ?it/s]\u001b[A\n",
      "Iterations for network: 100%|███████████████████████| 1/1 [01:22<00:00, 82.30s/it]\u001b[A\n",
      "                                                                                  \u001b[A\n",
      "Iterations for network:   0%|                               | 0/1 [00:00<?, ?it/s]\u001b[A\n",
      "Iterations for network: 100%|██████████████████████| 1/1 [02:04<00:00, 124.91s/it]\u001b[A\n",
      "Processing databases:  60%|██████████████▍         | 3/5 [10:45<07:12, 216.16s/it]\u001b[A\n",
      "Iterations for northwind:   0%|                             | 0/1 [00:00<?, ?it/s]\u001b[A\n",
      "Iterations for northwind: 100%|█████████████████████| 1/1 [01:20<00:00, 80.16s/it]\u001b[A\n",
      "                                                                                  \u001b[A\n",
      "Iterations for northwind:   0%|                             | 0/1 [00:00<?, ?it/s]\u001b[A\n",
      "Iterations for northwind: 100%|████████████████████| 1/1 [01:40<00:00, 100.58s/it]\u001b[A\n",
      "Processing databases:  80%|███████████████████▏    | 4/5 [13:50<03:24, 204.17s/it]\u001b[A\n",
      "Iterations for ClinicalKnowledgeGraph:   0%|                | 0/1 [00:00<?, ?it/s]\u001b[A\n",
      "Iterations for ClinicalKnowledgeGraph: 100%|███████| 1/1 [03:28<00:00, 208.88s/it]\u001b[A\n",
      "                                                                                  \u001b[A\n",
      "Iterations for ClinicalKnowledgeGraph:   0%|                | 0/1 [00:00<?, ?it/s]\u001b[A\n",
      "Iterations for ClinicalKnowledgeGraph: 100%|███████| 1/1 [05:14<00:00, 314.92s/it]\u001b[A\n",
      "Processing databases: 100%|████████████████████████| 5/5 [24:35<00:00, 295.13s/it]\u001b[A\n"
     ]
    }
   ],
   "source": [
    "simple_batch_count = 1 # Number of iterations for simple queries\n",
    "multi_batch_count = 1 # Number of iterations complex queries\n",
    "\n",
    "output = []\n",
    "\n",
    "for model in models:\n",
    "    print(model.model)\n",
    "    for credential in tqdm(databases, desc=\"Processing databases\"):\n",
    "        # Simple question\n",
    "        database_records = process_database(\n",
    "            credential, db_url, model, simple_batch_count, simple_system_prompt\n",
    "        )\n",
    "        output.extend(database_records)\n",
    "\n",
    "        database_records = process_database(\n",
    "            credential, db_url, model, multi_batch_count, system_prompt\n",
    "        )\n",
    "        output.extend(database_records)"
   ]
  },
  {
   "cell_type": "markdown",
   "id": "6912281c-de2a-46b7-983e-9bd8eea21a73",
   "metadata": {},
   "source": [
    "# Generate text answers"
   ]
  },
  {
   "cell_type": "code",
   "execution_count": 5,
   "id": "01d18e3c-875a-4b12-8713-b14545fab33f",
   "metadata": {},
   "outputs": [],
   "source": [
    "qa_model = ChatAnthropic(model='claude-3-5-haiku-latest')"
   ]
  },
  {
   "cell_type": "code",
   "execution_count": 6,
   "id": "df70df72-0765-4b13-8c5e-9f171b6f70c8",
   "metadata": {},
   "outputs": [],
   "source": [
    "validated = [el for el in output if el[\"validated\"]]"
   ]
  },
  {
   "cell_type": "code",
   "execution_count": 7,
   "id": "7dfe6727-7ee2-405d-b02a-cfe9977b9c3f",
   "metadata": {},
   "outputs": [
    {
     "data": {
      "text/plain": [
       "211"
      ]
     },
     "execution_count": 7,
     "metadata": {},
     "output_type": "execute_result"
    }
   ],
   "source": [
    "len(validated)"
   ]
  },
  {
   "cell_type": "code",
   "execution_count": 8,
   "id": "5dfd5b0b-358c-4fda-9c90-72a835f0a7c9",
   "metadata": {},
   "outputs": [
    {
     "name": "stderr",
     "output_type": "stream",
     "text": [
      "Processing examples: 100%|██████████████████████| 211/211 [00:32<00:00,  6.56it/s]\n"
     ]
    }
   ],
   "source": [
    "# Generate text-based answers\n",
    "await process_all_examples_with_limit(validated, qa_model)"
   ]
  },
  {
   "cell_type": "code",
   "execution_count": 11,
   "id": "75c4a539-b6ce-4f52-8964-4ef93a0600dc",
   "metadata": {},
   "outputs": [
    {
     "name": "stdout",
     "output_type": "stream",
     "text": [
      "Total QA pairs: 205\n"
     ]
    },
    {
     "data": {
      "text/html": [
       "<div>\n",
       "<style scoped>\n",
       "    .dataframe tbody tr th:only-of-type {\n",
       "        vertical-align: middle;\n",
       "    }\n",
       "\n",
       "    .dataframe tbody tr th {\n",
       "        vertical-align: top;\n",
       "    }\n",
       "\n",
       "    .dataframe thead th {\n",
       "        text-align: right;\n",
       "    }\n",
       "</style>\n",
       "<table border=\"1\" class=\"dataframe\">\n",
       "  <thead>\n",
       "    <tr style=\"text-align: right;\">\n",
       "      <th></th>\n",
       "      <th>question</th>\n",
       "      <th>cypher</th>\n",
       "      <th>query_type</th>\n",
       "      <th>complexity</th>\n",
       "      <th>noise_applied</th>\n",
       "      <th>model</th>\n",
       "      <th>database</th>\n",
       "      <th>validated</th>\n",
       "      <th>result</th>\n",
       "      <th>answer</th>\n",
       "      <th>noise_type</th>\n",
       "    </tr>\n",
       "  </thead>\n",
       "  <tbody>\n",
       "    <tr>\n",
       "      <th>0</th>\n",
       "      <td>What's Microsoft Corporation's revenue?</td>\n",
       "      <td>MATCH (o:Organization {name: 'Microsoft Corpor...</td>\n",
       "      <td>Direct Property Access</td>\n",
       "      <td>0-hop</td>\n",
       "      <td>False</td>\n",
       "      <td>anthropic-chat</td>\n",
       "      <td>companies</td>\n",
       "      <td>True</td>\n",
       "      <td>[{'company_revenue': 198270000000.0}]</td>\n",
       "      <td>According to the data, Microsoft Corporation's...</td>\n",
       "      <td>NaN</td>\n",
       "    </tr>\n",
       "    <tr>\n",
       "      <th>1</th>\n",
       "      <td>How many employees does SAP have?</td>\n",
       "      <td>MATCH (o:Organization {name: 'SAP'}) RETURN o....</td>\n",
       "      <td>Direct Property Access</td>\n",
       "      <td>0-hop</td>\n",
       "      <td>False</td>\n",
       "      <td>anthropic-chat</td>\n",
       "      <td>companies</td>\n",
       "      <td>True</td>\n",
       "      <td>[{'employee_count': 111961}]</td>\n",
       "      <td>According to the data, SAP has 111,961 employees.</td>\n",
       "      <td>NaN</td>\n",
       "    </tr>\n",
       "    <tr>\n",
       "      <th>2</th>\n",
       "      <td>Tell me Mircosoft Corporation's motto</td>\n",
       "      <td>MATCH (o:Organization {name: 'Microsoft Corpor...</td>\n",
       "      <td>Direct Property Access</td>\n",
       "      <td>0-hop</td>\n",
       "      <td>True</td>\n",
       "      <td>anthropic-chat</td>\n",
       "      <td>companies</td>\n",
       "      <td>True</td>\n",
       "      <td>[{'company_motto': 'We’re on a mission to empo...</td>\n",
       "      <td>Microsoft Corporation's motto is: \"We're on a ...</td>\n",
       "      <td>typo</td>\n",
       "    </tr>\n",
       "    <tr>\n",
       "      <th>3</th>\n",
       "      <td>Is Cloud Sherpas still active?</td>\n",
       "      <td>MATCH (o:Organization {name: 'Cloud Sherpas'})...</td>\n",
       "      <td>Direct Property Access</td>\n",
       "      <td>0-hop</td>\n",
       "      <td>False</td>\n",
       "      <td>anthropic-chat</td>\n",
       "      <td>companies</td>\n",
       "      <td>True</td>\n",
       "      <td>[{'is_dissolved': True}]</td>\n",
       "      <td>No, Cloud Sherpas is not still active. The que...</td>\n",
       "      <td>NaN</td>\n",
       "    </tr>\n",
       "    <tr>\n",
       "      <th>4</th>\n",
       "      <td>What's the revenue of New Energy Group?</td>\n",
       "      <td>MATCH (o:Organization {name: 'New Energy Group...</td>\n",
       "      <td>Direct Property Access</td>\n",
       "      <td>0-hop</td>\n",
       "      <td>False</td>\n",
       "      <td>anthropic-chat</td>\n",
       "      <td>companies</td>\n",
       "      <td>True</td>\n",
       "      <td>[{'company_revenue': 120000000.0}]</td>\n",
       "      <td>The revenue of New Energy Group is $120,000,000.</td>\n",
       "      <td>NaN</td>\n",
       "    </tr>\n",
       "  </tbody>\n",
       "</table>\n",
       "</div>"
      ],
      "text/plain": [
       "                                  question  \\\n",
       "0  What's Microsoft Corporation's revenue?   \n",
       "1        How many employees does SAP have?   \n",
       "2    Tell me Mircosoft Corporation's motto   \n",
       "3           Is Cloud Sherpas still active?   \n",
       "4  What's the revenue of New Energy Group?   \n",
       "\n",
       "                                              cypher              query_type  \\\n",
       "0  MATCH (o:Organization {name: 'Microsoft Corpor...  Direct Property Access   \n",
       "1  MATCH (o:Organization {name: 'SAP'}) RETURN o....  Direct Property Access   \n",
       "2  MATCH (o:Organization {name: 'Microsoft Corpor...  Direct Property Access   \n",
       "3  MATCH (o:Organization {name: 'Cloud Sherpas'})...  Direct Property Access   \n",
       "4  MATCH (o:Organization {name: 'New Energy Group...  Direct Property Access   \n",
       "\n",
       "  complexity  noise_applied           model   database  validated  \\\n",
       "0      0-hop          False  anthropic-chat  companies       True   \n",
       "1      0-hop          False  anthropic-chat  companies       True   \n",
       "2      0-hop           True  anthropic-chat  companies       True   \n",
       "3      0-hop          False  anthropic-chat  companies       True   \n",
       "4      0-hop          False  anthropic-chat  companies       True   \n",
       "\n",
       "                                              result  \\\n",
       "0              [{'company_revenue': 198270000000.0}]   \n",
       "1                       [{'employee_count': 111961}]   \n",
       "2  [{'company_motto': 'We’re on a mission to empo...   \n",
       "3                           [{'is_dissolved': True}]   \n",
       "4                 [{'company_revenue': 120000000.0}]   \n",
       "\n",
       "                                              answer noise_type  \n",
       "0  According to the data, Microsoft Corporation's...        NaN  \n",
       "1  According to the data, SAP has 111,961 employees.        NaN  \n",
       "2  Microsoft Corporation's motto is: \"We're on a ...       typo  \n",
       "3  No, Cloud Sherpas is not still active. The que...        NaN  \n",
       "4   The revenue of New Energy Group is $120,000,000.        NaN  "
      ]
     },
     "execution_count": 11,
     "metadata": {},
     "output_type": "execute_result"
    }
   ],
   "source": [
    "# If the question cannot be answered, remove record\n",
    "validated = [el for el in validated if not \"UNKNOWN\" in el['answer']]\n",
    "\n",
    "df = pd.DataFrame.from_records(validated)\n",
    "print(f\"Total QA pairs: {len(df)}\")\n",
    "df.head(5)"
   ]
  },
  {
   "cell_type": "code",
   "execution_count": 12,
   "id": "7938bb90-115c-4060-ba5e-d1bbbb61e7ac",
   "metadata": {},
   "outputs": [],
   "source": [
    "# Assuming 'output' is defined elsewhere in your code\n",
    "with open(\"generated_dataset.json\", \"w\") as f:\n",
    "    json.dump(validated, f, indent=2, default=convert_datetime)"
   ]
  },
  {
   "cell_type": "code",
   "execution_count": null,
   "id": "438a0ce3-6f5e-4b6e-865d-c8afb34c5045",
   "metadata": {},
   "outputs": [],
   "source": []
  }
 ],
 "metadata": {
  "kernelspec": {
   "display_name": "Python 3 (ipykernel)",
   "language": "python",
   "name": "python3"
  },
  "language_info": {
   "codemirror_mode": {
    "name": "ipython",
    "version": 3
   },
   "file_extension": ".py",
   "mimetype": "text/x-python",
   "name": "python",
   "nbconvert_exporter": "python",
   "pygments_lexer": "ipython3",
   "version": "3.12.7"
  }
 },
 "nbformat": 4,
 "nbformat_minor": 5
}
