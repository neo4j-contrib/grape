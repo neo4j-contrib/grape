{
 "cells": [
  {
   "cell_type": "code",
   "execution_count": 1,
   "id": "d3c6c6c0-0edc-467c-a6c2-8113dbf4c99e",
   "metadata": {},
   "outputs": [],
   "source": [
    "#!pip install --quiet langchain-anthropic langchain-neo4j cyVer langchain-google-genai json-repair \"numpy<2\""
   ]
  },
  {
   "cell_type": "code",
   "execution_count": 2,
   "id": "def56e63-f956-4460-bde1-b1c230c3230e",
   "metadata": {},
   "outputs": [
    {
     "data": {
      "text/plain": [
       "True"
      ]
     },
     "execution_count": 2,
     "metadata": {},
     "output_type": "execute_result"
    }
   ],
   "source": [
    "from dotenv import load_dotenv\n",
    "\n",
    "load_dotenv()"
   ]
  },
  {
   "cell_type": "code",
   "execution_count": 3,
   "id": "ab36fa35-f5b9-483a-8d3f-93deae83a287",
   "metadata": {},
   "outputs": [],
   "source": [
    "from tqdm import tqdm\n",
    "import pandas as pd\n",
    "\n",
    "from langchain_anthropic import ChatAnthropic\n",
    "from langchain_google_genai import ChatGoogleGenerativeAI\n",
    "\n",
    "from utils import (\n",
    "    _value_sanitize,\n",
    "    extract_json_from_markdown,\n",
    "    sampling_query,\n",
    "    validate_cypher,\n",
    "    process_database,\n",
    "    process_all_examples_with_limit,\n",
    "    convert_datetime\n",
    ")\n",
    "from prompts import (\n",
    "    system_prompt,\n",
    "    simple_system_prompt,\n",
    ")"
   ]
  },
  {
   "cell_type": "markdown",
   "id": "8eb8a21e-12fe-47b7-9895-6648b42045a5",
   "metadata": {},
   "source": [
    "# Generate dataset"
   ]
  },
  {
   "cell_type": "code",
   "execution_count": 4,
   "id": "b3dfc7f0-86fb-424e-8a41-1a2eb4677dc7",
   "metadata": {},
   "outputs": [],
   "source": [
    "# LLM selection\n",
    "models = [ChatAnthropic(model='claude-opus-4-20250514'), ChatGoogleGenerativeAI(model=\"gemini-2.5-pro\")]\n",
    "\n",
    "# Database selection (for demo database)\n",
    "db_url = \"neo4j+s://demo.neo4jlabs.com\"\n",
    "databases = [\n",
    "    \"companies\",\n",
    "    \"twitch\", \n",
    "    \"network\",\n",
    "    \"northwind\",\n",
    "    \"ClinicalKnowledgeGraph\"\n",
    "]\n"
   ]
  },
  {
   "cell_type": "code",
   "execution_count": 5,
   "id": "474866e2-b4a9-4b98-962d-11754df7fde1",
   "metadata": {},
   "outputs": [
    {
     "name": "stdout",
     "output_type": "stream",
     "text": [
      "claude-opus-4-20250514\n"
     ]
    },
    {
     "name": "stderr",
     "output_type": "stream",
     "text": [
      "Processing databases:   0%|                                 | 0/5 [00:00<?, ?it/s]\n",
      "Iterations for companies:   0%|                             | 0/1 [00:00<?, ?it/s]\u001b[A\n",
      "Iterations for companies: 100%|████████████████████| 1/1 [02:36<00:00, 156.98s/it]\u001b[A\n",
      "                                                                                  \u001b[A\n",
      "Iterations for companies:   0%|                             | 0/3 [00:00<?, ?it/s]\u001b[A\n",
      "Iterations for companies:  33%|██████▋             | 1/3 [03:17<06:34, 197.37s/it]\u001b[A\n",
      "Iterations for companies:  67%|█████████████▎      | 2/3 [06:18<03:07, 187.79s/it]\u001b[A\n",
      "Iterations for companies: 100%|████████████████████| 3/3 [10:52<00:00, 227.13s/it]\u001b[A\n",
      "Processing databases:  20%|████▊                   | 1/5 [13:34<54:17, 814.41s/it]\u001b[A\n",
      "Iterations for twitch:   0%|                                | 0/1 [00:00<?, ?it/s]\u001b[A\n",
      "Iterations for twitch: 100%|███████████████████████| 1/1 [02:26<00:00, 146.25s/it]\u001b[A\n",
      "                                                                                  \u001b[A\n",
      "Iterations for twitch:   0%|                                | 0/3 [00:00<?, ?it/s]\u001b[A\n",
      "Iterations for twitch:  33%|███████▋               | 1/3 [03:09<06:19, 189.69s/it]\u001b[A\n",
      "Iterations for twitch:  67%|███████████████▎       | 2/3 [06:12<03:05, 185.58s/it]\u001b[A\n",
      "Iterations for twitch: 100%|███████████████████████| 3/3 [36:12<00:00, 922.87s/it]\u001b[A\n",
      "Processing databases:  40%|████████▍            | 2/5 [52:21<1:25:12, 1704.15s/it]\u001b[A\n",
      "Iterations for network:   0%|                               | 0/1 [00:00<?, ?it/s]\u001b[A\n",
      "Iterations for network: 100%|██████████████████████| 1/1 [02:40<00:00, 160.22s/it]\u001b[A\n",
      "                                                                                  \u001b[A\n",
      "Iterations for network:   0%|                               | 0/3 [00:00<?, ?it/s]\u001b[A\n",
      "Iterations for network:  33%|███████▎              | 1/3 [04:37<09:15, 277.87s/it]\u001b[A\n",
      "Iterations for network:  67%|██████████████▋       | 2/3 [09:36<04:50, 290.21s/it]\u001b[A\n",
      "Iterations for network: 100%|██████████████████████| 3/3 [12:52<00:00, 247.12s/it]\u001b[A\n",
      "Processing databases:  60%|████████████▌        | 3/5 [1:07:59<45:08, 1354.35s/it]\u001b[A\n",
      "Iterations for northwind:   0%|                             | 0/1 [00:00<?, ?it/s]\u001b[A\n",
      "Iterations for northwind: 100%|████████████████████| 1/1 [02:15<00:00, 135.06s/it]\u001b[A\n",
      "                                                                                  \u001b[A\n",
      "Iterations for northwind:   0%|                             | 0/3 [00:00<?, ?it/s]\u001b[A\n",
      "Iterations for northwind:  33%|██████▋             | 1/3 [03:01<06:02, 181.01s/it]\u001b[A\n",
      "Iterations for northwind:  67%|█████████████▎      | 2/3 [05:52<02:55, 175.67s/it]\u001b[A\n",
      "Iterations for northwind: 100%|████████████████████| 3/3 [09:05<00:00, 183.35s/it]\u001b[A\n",
      "Processing databases:  80%|████████████████▊    | 4/5 [1:19:24<18:10, 1090.23s/it]\u001b[A\n",
      "Iterations for ClinicalKnowledgeGraph:   0%|                | 0/1 [00:00<?, ?it/s]\u001b[A\n",
      "Iterations for ClinicalKnowledgeGraph: 100%|███████| 1/1 [05:50<00:00, 350.89s/it]\u001b[A\n",
      "                                                                                  \u001b[A\n",
      "Iterations for ClinicalKnowledgeGraph:   0%|                | 0/3 [00:00<?, ?it/s]\u001b[A\n",
      "Iterations for ClinicalKnowledgeGraph:  33%|██▎    | 1/3 [12:09<24:18, 729.12s/it]\u001b[A\n",
      "Iterations for ClinicalKnowledgeGraph:  67%|████▋  | 2/3 [26:45<13:35, 815.63s/it]\u001b[A\n",
      "Iterations for ClinicalKnowledgeGraph: 100%|███████| 3/3 [35:02<00:00, 670.08s/it]\u001b[A\n",
      "Processing databases: 100%|█████████████████████| 5/5 [2:02:17<00:00, 1467.40s/it]\u001b[A\n"
     ]
    },
    {
     "name": "stdout",
     "output_type": "stream",
     "text": [
      "models/gemini-2.5-pro\n"
     ]
    },
    {
     "name": "stderr",
     "output_type": "stream",
     "text": [
      "Processing databases:   0%|                                 | 0/5 [00:00<?, ?it/s]\n",
      "Iterations for companies:   0%|                             | 0/1 [00:00<?, ?it/s]\u001b[A\n",
      "Iterations for companies: 100%|████████████████████| 1/1 [02:36<00:00, 156.71s/it]\u001b[A\n",
      "                                                                                  \u001b[A\n",
      "Iterations for companies:   0%|                             | 0/3 [00:00<?, ?it/s]\u001b[A\n",
      "Iterations for companies:  33%|██████▋             | 1/3 [06:13<12:26, 373.36s/it]\u001b[AReceived notification from DBMS server: {severity: WARNING} {code: Neo.ClientNotification.Statement.UnknownPropertyKeyWarning} {category: UNRECOGNIZED} {title: The provided property key is not in the database} {description: One of the property names in your query is not available in the database, make sure you didn't misspell it or that the label is available when you run this statement in your application (the missing property name is: category)} {position: line: 1, column: 180, offset: 179} for query: \"MATCH (ibm:Organization {name: 'IBM'})<-[:HAS_SUPPLIER]-(sup:Organization)-[:HAS_INVESTOR]->(inv:Organization) WHERE (sup)-[:HAS_CATEGORY]->(:IndustryCategory) AND any(cat IN sup.category WHERE cat.name CONTAINS 'Technology') RETURN inv.name AS investor_organization_name LIMIT 1\"\n",
      "\n",
      "Iterations for companies:  67%|█████████████▎      | 2/3 [11:47<05:50, 350.45s/it]\u001b[A\n",
      "Iterations for companies: 100%|████████████████████| 3/3 [17:12<00:00, 338.91s/it]\u001b[A\n",
      "Processing databases:  20%|████▏                | 1/5 [19:54<1:19:38, 1194.59s/it]\u001b[A\n",
      "Iterations for twitch:   0%|                                | 0/1 [00:00<?, ?it/s]\u001b[A\n",
      "Iterations for twitch: 100%|███████████████████████| 1/1 [02:38<00:00, 158.28s/it]\u001b[A\n",
      "                                                                                  \u001b[A\n",
      "Iterations for twitch:   0%|                                | 0/3 [00:00<?, ?it/s]\u001b[A\n",
      "Iterations for twitch:  33%|███████▋               | 1/3 [04:17<08:34, 257.18s/it]\u001b[A\n",
      "Iterations for twitch:  67%|███████████████▎       | 2/3 [07:29<03:39, 219.17s/it]\u001b[A\n",
      "Iterations for twitch: 100%|███████████████████████| 3/3 [11:59<00:00, 242.38s/it]\u001b[A\n",
      "Processing databases:  40%|█████████▏             | 2/5 [34:41<50:40, 1013.53s/it]\u001b[A\n",
      "Iterations for network:   0%|                               | 0/1 [00:00<?, ?it/s]\u001b[AReceived notification from DBMS server: {severity: WARNING} {code: Neo.ClientNotification.Statement.UnknownPropertyKeyWarning} {category: UNRECOGNIZED} {title: The provided property key is not in the database} {description: One of the property names in your query is not available in the database, make sure you didn't misspell it or that the label is available when you run this statement in your application (the missing property name is: version)} {position: line: 1, column: 36, offset: 35} for query: \"MATCH (:Service {name: 'postgres', version: '9.4'})-[:INSTANCE]->(s:Software) RETURN s.name AS software_name\"\n",
      "\n",
      "Iterations for network: 100%|██████████████████████| 1/1 [02:47<00:00, 167.68s/it]\u001b[A\n",
      "                                                                                  \u001b[A\n",
      "Iterations for network:   0%|                               | 0/3 [00:00<?, ?it/s]\u001b[A\n",
      "Iterations for network:  33%|███████▎              | 1/3 [03:18<06:36, 198.42s/it]\u001b[A\n",
      "Iterations for network:  67%|██████████████▋       | 2/3 [06:33<03:16, 196.65s/it]\u001b[A\n",
      "Iterations for network: 100%|██████████████████████| 3/3 [09:54<00:00, 198.43s/it]\u001b[A\n",
      "Processing databases:  60%|██████████████▍         | 3/5 [47:28<30:02, 901.06s/it]\u001b[A\n",
      "Iterations for northwind:   0%|                             | 0/1 [00:00<?, ?it/s]\u001b[A\n",
      "Iterations for northwind: 100%|████████████████████| 1/1 [03:03<00:00, 183.87s/it]\u001b[A\n",
      "                                                                                  \u001b[A\n",
      "Iterations for northwind:   0%|                             | 0/3 [00:00<?, ?it/s]\u001b[A\n",
      "Iterations for northwind:  33%|██████▋             | 1/3 [04:44<09:29, 284.77s/it]\u001b[A\n",
      "Iterations for northwind:  67%|█████████████▎      | 2/3 [08:04<03:54, 234.62s/it]\u001b[A\n",
      "Iterations for northwind: 100%|████████████████████| 3/3 [13:15<00:00, 269.67s/it]\u001b[A\n",
      "Processing databases:  80%|█████████████████▌    | 4/5 [1:03:52<15:33, 933.95s/it]\u001b[A\n",
      "Iterations for ClinicalKnowledgeGraph:   0%|                | 0/1 [00:00<?, ?it/s]\u001b[AReceived notification from DBMS server: {severity: WARNING} {code: Neo.ClientNotification.Statement.FeatureDeprecationWarning} {category: DEPRECATION} {title: This feature is deprecated and will be removed in future versions.} {description: The semantics of using colon in the separation of alternative relationship types will change in a future version. (Please use ':COMPILED_INTERACTS_WITH|CURATED_INTERACTS_WITH' instead)} {position: line: 1, column: 61, offset: 60} for query: \"MATCH (p:Protein {id: 'P38117-2'})-[:COMPILED_INTERACTS_WITH|:CURATED_INTERACTS_WITH]->(p2:Protein) RETURN count(p2) AS total_interactions\"\n",
      "\n",
      "Iterations for ClinicalKnowledgeGraph: 100%|███████| 1/1 [04:49<00:00, 289.91s/it]\u001b[A\n",
      "                                                                                  \u001b[A\n",
      "Iterations for ClinicalKnowledgeGraph:   0%|                | 0/3 [00:00<?, ?it/s]\u001b[AReceived notification from DBMS server: {severity: WARNING} {code: Neo.ClientNotification.Statement.FeatureDeprecationWarning} {category: DEPRECATION} {title: This feature is deprecated and will be removed in future versions.} {description: The semantics of using colon in the separation of alternative relationship types will change in a future version. (Please use ':CURATED_INTERACTS_WITH|COMPILED_INTERACTS_WITH' instead)} {position: line: 1, column: 59, offset: 58} for query: \"MATCH (:Protein {name: 'SPIRE1'})-[:CURATED_INTERACTS_WITH|:COMPILED_INTERACTS_WITH]->(p2:Protein)-[r:ASSOCIATED_WITH]->(bp:Biological_process) WHERE r.score IS NOT NULL RETURN min(r.score) AS lowest_interaction_score\"\n",
      "Received notification from DBMS server: {severity: WARNING} {code: Neo.ClientNotification.Statement.FeatureDeprecationWarning} {category: DEPRECATION} {title: This feature is deprecated and will be removed in future versions.} {description: The semantics of using colon in the separation of alternative relationship types will change in a future version. (Please use ':CURATED_INTERACTS_WITH|COMPILED_INTERACTS_WITH' instead)} {position: line: 1, column: 57, offset: 56} for query: \"MATCH (:Protein {name: 'ETFB'})-[:CURATED_INTERACTS_WITH|:COMPILED_INTERACTS_WITH]->(:Protein)-[:ASSOCIATED_WITH]->(bp:Biological_process) RETURN bp.description AS process_description LIMIT 1\"\n",
      "Received notification from DBMS server: {severity: WARNING} {code: Neo.ClientNotification.Statement.FeatureDeprecationWarning} {category: DEPRECATION} {title: This feature is deprecated and will be removed in future versions.} {description: The semantics of using colon in the separation of alternative relationship types will change in a future version. (Please use ':CURATED_INTERACTS_WITH|COMPILED_INTERACTS_WITH' instead)} {position: line: 1, column: 87, offset: 86} for query: \"MATCH (:Gene {name: 'NTF3'})-[:TRANSLATED_INTO]->(p1:Protein)-[:CURATED_INTERACTS_WITH|:COMPILED_INTERACTS_WITH]->(p2:Protein)-[r:ASSOCIATED_WITH]->(d:Disease) WHERE r.score IS NOT NULL RETURN d.name AS top_disease_by_score ORDER BY r.score DESC LIMIT 1\"\n",
      "\n",
      "Iterations for ClinicalKnowledgeGraph:  33%|██▎    | 1/3 [08:05<16:10, 485.05s/it]\u001b[A\n",
      "Iterations for ClinicalKnowledgeGraph:  67%|████▋  | 2/3 [15:54<07:55, 475.59s/it]\u001b[A\n",
      "Iterations for ClinicalKnowledgeGraph: 100%|███████| 3/3 [23:27<00:00, 465.69s/it]\u001b[A\n",
      "Processing databases: 100%|█████████████████████| 5/5 [1:34:08<00:00, 1129.69s/it]\u001b[A\n"
     ]
    }
   ],
   "source": [
    "simple_batch_count = 1 # Number of iterations for simple queries\n",
    "multi_batch_count = 3 # Number of iterations complex queries\n",
    "\n",
    "output = []\n",
    "\n",
    "for model in models:\n",
    "    print(model.model)\n",
    "    for credential in tqdm(databases, desc=\"Processing databases\"):\n",
    "        # Simple question\n",
    "        database_records = process_database(\n",
    "            credential, db_url, model, simple_batch_count, simple_system_prompt\n",
    "        )\n",
    "        output.extend(database_records)\n",
    "\n",
    "        database_records = process_database(\n",
    "            credential, db_url, model, multi_batch_count, system_prompt\n",
    "        )\n",
    "        output.extend(database_records)"
   ]
  },
  {
   "cell_type": "markdown",
   "id": "6912281c-de2a-46b7-983e-9bd8eea21a73",
   "metadata": {},
   "source": [
    "# Generate text answers"
   ]
  },
  {
   "cell_type": "code",
   "execution_count": 6,
   "id": "01d18e3c-875a-4b12-8713-b14545fab33f",
   "metadata": {},
   "outputs": [],
   "source": [
    "qa_model = ChatAnthropic(model='claude-3-5-haiku-latest')"
   ]
  },
  {
   "cell_type": "code",
   "execution_count": 7,
   "id": "5dfd5b0b-358c-4fda-9c90-72a835f0a7c9",
   "metadata": {},
   "outputs": [
    {
     "name": "stderr",
     "output_type": "stream",
     "text": [
      "Processing examples: 100%|████████████████████| 1982/1982 [04:12<00:00,  7.86it/s]\n"
     ]
    }
   ],
   "source": [
    "# Generate text-based answers\n",
    "await process_all_examples_with_limit(output, qa_model)"
   ]
  },
  {
   "cell_type": "code",
   "execution_count": 8,
   "id": "75c4a539-b6ce-4f52-8964-4ef93a0600dc",
   "metadata": {},
   "outputs": [
    {
     "data": {
      "text/html": [
       "<div>\n",
       "<style scoped>\n",
       "    .dataframe tbody tr th:only-of-type {\n",
       "        vertical-align: middle;\n",
       "    }\n",
       "\n",
       "    .dataframe tbody tr th {\n",
       "        vertical-align: top;\n",
       "    }\n",
       "\n",
       "    .dataframe thead th {\n",
       "        text-align: right;\n",
       "    }\n",
       "</style>\n",
       "<table border=\"1\" class=\"dataframe\">\n",
       "  <thead>\n",
       "    <tr style=\"text-align: right;\">\n",
       "      <th></th>\n",
       "      <th>question</th>\n",
       "      <th>cypher</th>\n",
       "      <th>query_type</th>\n",
       "      <th>complexity</th>\n",
       "      <th>noise_applied</th>\n",
       "      <th>model</th>\n",
       "      <th>validated</th>\n",
       "      <th>result</th>\n",
       "      <th>answer</th>\n",
       "      <th>noise_type</th>\n",
       "    </tr>\n",
       "  </thead>\n",
       "  <tbody>\n",
       "    <tr>\n",
       "      <th>0</th>\n",
       "      <td>What's Microsoft Corporation's revenue?</td>\n",
       "      <td>MATCH (o:Organization {name: 'Microsoft Corpor...</td>\n",
       "      <td>Direct Property Access</td>\n",
       "      <td>0-hop</td>\n",
       "      <td>False</td>\n",
       "      <td>anthropic-chat</td>\n",
       "      <td>True</td>\n",
       "      <td>[{'company_revenue': 198270000000.0}]</td>\n",
       "      <td>Microsoft Corporation's revenue is $198.27 bil...</td>\n",
       "      <td>NaN</td>\n",
       "    </tr>\n",
       "    <tr>\n",
       "      <th>1</th>\n",
       "      <td>How many employees does SAP have?</td>\n",
       "      <td>MATCH (o:Organization {name: 'SAP'}) RETURN o....</td>\n",
       "      <td>Direct Property Access</td>\n",
       "      <td>0-hop</td>\n",
       "      <td>False</td>\n",
       "      <td>anthropic-chat</td>\n",
       "      <td>True</td>\n",
       "      <td>[{'employee_count': 111961}]</td>\n",
       "      <td>SAP has 111,961 employees.</td>\n",
       "      <td>NaN</td>\n",
       "    </tr>\n",
       "    <tr>\n",
       "      <th>2</th>\n",
       "      <td>What's Mircosoft's motto?</td>\n",
       "      <td>MATCH (o:Organization {name: 'Microsoft Corpor...</td>\n",
       "      <td>Direct Property Access</td>\n",
       "      <td>0-hop</td>\n",
       "      <td>True</td>\n",
       "      <td>anthropic-chat</td>\n",
       "      <td>True</td>\n",
       "      <td>[{'company_motto': 'We’re on a mission to empo...</td>\n",
       "      <td>Microsoft's motto is: \"We're on a mission to e...</td>\n",
       "      <td>typo</td>\n",
       "    </tr>\n",
       "    <tr>\n",
       "      <th>3</th>\n",
       "      <td>Is Cloud Sherpas still active?</td>\n",
       "      <td>MATCH (o:Organization {name: 'Cloud Sherpas'})...</td>\n",
       "      <td>Direct Property Access</td>\n",
       "      <td>0-hop</td>\n",
       "      <td>False</td>\n",
       "      <td>anthropic-chat</td>\n",
       "      <td>True</td>\n",
       "      <td>[{'is_dissolved': True}]</td>\n",
       "      <td>Based on the query result, Cloud Sherpas is no...</td>\n",
       "      <td>NaN</td>\n",
       "    </tr>\n",
       "    <tr>\n",
       "      <th>4</th>\n",
       "      <td>Tell me IBM's summary</td>\n",
       "      <td>MATCH (o:Organization {name: 'IBM'}) RETURN o....</td>\n",
       "      <td>Direct Property Access</td>\n",
       "      <td>0-hop</td>\n",
       "      <td>False</td>\n",
       "      <td>anthropic-chat</td>\n",
       "      <td>True</td>\n",
       "      <td>[{'company_summary': 'American multinational t...</td>\n",
       "      <td>IBM is an American multinational technology an...</td>\n",
       "      <td>NaN</td>\n",
       "    </tr>\n",
       "  </tbody>\n",
       "</table>\n",
       "</div>"
      ],
      "text/plain": [
       "                                  question  \\\n",
       "0  What's Microsoft Corporation's revenue?   \n",
       "1        How many employees does SAP have?   \n",
       "2                What's Mircosoft's motto?   \n",
       "3           Is Cloud Sherpas still active?   \n",
       "4                    Tell me IBM's summary   \n",
       "\n",
       "                                              cypher              query_type  \\\n",
       "0  MATCH (o:Organization {name: 'Microsoft Corpor...  Direct Property Access   \n",
       "1  MATCH (o:Organization {name: 'SAP'}) RETURN o....  Direct Property Access   \n",
       "2  MATCH (o:Organization {name: 'Microsoft Corpor...  Direct Property Access   \n",
       "3  MATCH (o:Organization {name: 'Cloud Sherpas'})...  Direct Property Access   \n",
       "4  MATCH (o:Organization {name: 'IBM'}) RETURN o....  Direct Property Access   \n",
       "\n",
       "  complexity  noise_applied           model  validated  \\\n",
       "0      0-hop          False  anthropic-chat       True   \n",
       "1      0-hop          False  anthropic-chat       True   \n",
       "2      0-hop           True  anthropic-chat       True   \n",
       "3      0-hop          False  anthropic-chat       True   \n",
       "4      0-hop          False  anthropic-chat       True   \n",
       "\n",
       "                                              result  \\\n",
       "0              [{'company_revenue': 198270000000.0}]   \n",
       "1                       [{'employee_count': 111961}]   \n",
       "2  [{'company_motto': 'We’re on a mission to empo...   \n",
       "3                           [{'is_dissolved': True}]   \n",
       "4  [{'company_summary': 'American multinational t...   \n",
       "\n",
       "                                              answer noise_type  \n",
       "0  Microsoft Corporation's revenue is $198.27 bil...        NaN  \n",
       "1                         SAP has 111,961 employees.        NaN  \n",
       "2  Microsoft's motto is: \"We're on a mission to e...       typo  \n",
       "3  Based on the query result, Cloud Sherpas is no...        NaN  \n",
       "4  IBM is an American multinational technology an...        NaN  "
      ]
     },
     "execution_count": 8,
     "metadata": {},
     "output_type": "execute_result"
    }
   ],
   "source": [
    "df = pd.DataFrame.from_records(output)\n",
    "df.head(5)"
   ]
  },
  {
   "cell_type": "code",
   "execution_count": 14,
   "id": "7938bb90-115c-4060-ba5e-d1bbbb61e7ac",
   "metadata": {},
   "outputs": [],
   "source": [
    "import pandas as pd\n",
    "import json\n",
    "from datetime import datetime\n",
    "import neo4j\n",
    "\n",
    "def convert_datetime(obj):\n",
    "    if isinstance(obj, (pd.Timestamp, datetime, neo4j.time.DateTime)):\n",
    "        return obj.isoformat()\n",
    "    raise TypeError(f\"Object of type {type(obj)} is not JSON serializable\")\n",
    "\n",
    "# Assuming 'output' is defined elsewhere in your code\n",
    "with open(\"generated_dataset.json\", \"w\") as f:\n",
    "    json.dump(output, f, indent=2, default=convert_datetime)"
   ]
  },
  {
   "cell_type": "code",
   "execution_count": null,
   "id": "438a0ce3-6f5e-4b6e-865d-c8afb34c5045",
   "metadata": {},
   "outputs": [],
   "source": []
  }
 ],
 "metadata": {
  "kernelspec": {
   "display_name": "Python 3 (ipykernel)",
   "language": "python",
   "name": "python3"
  },
  "language_info": {
   "codemirror_mode": {
    "name": "ipython",
    "version": 3
   },
   "file_extension": ".py",
   "mimetype": "text/x-python",
   "name": "python",
   "nbconvert_exporter": "python",
   "pygments_lexer": "ipython3",
   "version": "3.12.7"
  }
 },
 "nbformat": 4,
 "nbformat_minor": 5
}
